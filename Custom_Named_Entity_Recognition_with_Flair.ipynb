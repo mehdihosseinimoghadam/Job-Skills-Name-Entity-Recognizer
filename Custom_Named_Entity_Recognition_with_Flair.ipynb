{
  "nbformat": 4,
  "nbformat_minor": 0,
  "metadata": {
    "colab": {
      "provenance": [],
      "gpuType": "T4"
    },
    "kernelspec": {
      "name": "python3",
      "display_name": "Python 3"
    },
    "language_info": {
      "name": "python"
    },
    "accelerator": "GPU"
  },
  "cells": [
    {
      "cell_type": "code",
      "source": [
        "pip install flair"
      ],
      "metadata": {
        "id": "l0YPXaxEiYQS"
      },
      "execution_count": null,
      "outputs": []
    },
    {
      "cell_type": "code",
      "source": [
        "import pandas as pd"
      ],
      "metadata": {
        "id": "FnIRPDygDMRR"
      },
      "execution_count": 1,
      "outputs": []
    },
    {
      "cell_type": "code",
      "source": [
        "!gdown --i 1sRELpaE3GICTBvm9Pb9_cTc6y4GfTovt"
      ],
      "metadata": {
        "id": "7BnAbVxybeeC",
        "colab": {
          "base_uri": "https://localhost:8080/"
        },
        "outputId": "a77950de-a103-45c1-9b6f-533c121badfe"
      },
      "execution_count": 2,
      "outputs": [
        {
          "output_type": "stream",
          "name": "stdout",
          "text": [
            "/usr/local/lib/python3.10/dist-packages/gdown/cli.py:121: FutureWarning: Option `--id` was deprecated in version 4.3.1 and will be removed in 5.0. You don't need to pass it anymore to use a file ID.\n",
            "  warnings.warn(\n",
            "Downloading...\n",
            "From: https://drive.google.com/uc?id=1sRELpaE3GICTBvm9Pb9_cTc6y4GfTovt\n",
            "To: /content/full_data_125k.csv\n",
            "100% 82.9M/82.9M [00:01<00:00, 68.9MB/s]\n"
          ]
        }
      ]
    },
    {
      "cell_type": "code",
      "source": [
        "data = pd.read_csv('/content/full_data_125k.csv')\n",
        "data"
      ],
      "metadata": {
        "colab": {
          "base_uri": "https://localhost:8080/",
          "height": 423
        },
        "id": "KXPj2ZzXC-J8",
        "outputId": "20003f95-900d-4716-e2dc-3e6ec3b0eb7e"
      },
      "execution_count": 2,
      "outputs": [
        {
          "output_type": "execute_result",
          "data": {
            "text/plain": [
              "        Unnamed: 0                                           sentence  \\\n",
              "0                0  This includes reviewing large numbers of docum...   \n",
              "1                1  Will report directly to Head of Weather Resear...   \n",
              "2                2  The analyst will be expected to interpret resu...   \n",
              "3                3  A wide degree of creativity and latitude is ex...   \n",
              "4                4  You must be authorized to work in the United S...   \n",
              "...            ...                                                ...   \n",
              "124399      124399  Simpson Strong Tie s drug policy is based upon...   \n",
              "124400      124400  We believe all employees affect customers  sal...   \n",
              "124401      124401  In keeping with the Company s commitment to th...   \n",
              "124402      124402  Complete training as required to ensure you ar...   \n",
              "124403      124403  Perhaps some of the following would be helpful...   \n",
              "\n",
              "                                              word_labels  \n",
              "0       O,O,O,O,O,O,O,O,O,O,O,O,O,O,O,O,O,O,O,O,O,O,In...  \n",
              "1                           O,O,O,O,O,O,O,In-SK,O,O,O,O,O  \n",
              "2       O,O,O,O,O,O,O,O,O,O,O,O,O,O,O,O,O,O,O,O,O,O,In...  \n",
              "3                                   O,O,O,O,In-SK,O,O,O,O  \n",
              "4       O,O,O,O,O,O,O,O,O,O,O,O,O,O,O,O,O,O,O,In-SK,O,...  \n",
              "...                                                   ...  \n",
              "124399  O,O,O,O,O,O,O,O,O,O,O,O,O,O,O,O,O,O,O,O,O,O,O,...  \n",
              "124400  O,O,O,O,O,O,In-SK,O,O,O,O,O,O,O,O,O,O,O,O,O,O,...  \n",
              "124401      O,O,O,O,O,O,O,O,O,O,O,O,In-SK,O,O,O,O,O,O,O,O  \n",
              "124402              O,In-SK,O,O,O,O,O,O,O,O,O,O,O,O,O,O,O  \n",
              "124403  O,O,O,O,O,O,O,O,O,O,O,O,O,O,O,O,O,O,O,O,O,O,O,...  \n",
              "\n",
              "[124404 rows x 3 columns]"
            ],
            "text/html": [
              "\n",
              "  <div id=\"df-a30ecb96-16a0-4d13-bfe6-a6b558e4ce06\" class=\"colab-df-container\">\n",
              "    <div>\n",
              "<style scoped>\n",
              "    .dataframe tbody tr th:only-of-type {\n",
              "        vertical-align: middle;\n",
              "    }\n",
              "\n",
              "    .dataframe tbody tr th {\n",
              "        vertical-align: top;\n",
              "    }\n",
              "\n",
              "    .dataframe thead th {\n",
              "        text-align: right;\n",
              "    }\n",
              "</style>\n",
              "<table border=\"1\" class=\"dataframe\">\n",
              "  <thead>\n",
              "    <tr style=\"text-align: right;\">\n",
              "      <th></th>\n",
              "      <th>Unnamed: 0</th>\n",
              "      <th>sentence</th>\n",
              "      <th>word_labels</th>\n",
              "    </tr>\n",
              "  </thead>\n",
              "  <tbody>\n",
              "    <tr>\n",
              "      <th>0</th>\n",
              "      <td>0</td>\n",
              "      <td>This includes reviewing large numbers of docum...</td>\n",
              "      <td>O,O,O,O,O,O,O,O,O,O,O,O,O,O,O,O,O,O,O,O,O,O,In...</td>\n",
              "    </tr>\n",
              "    <tr>\n",
              "      <th>1</th>\n",
              "      <td>1</td>\n",
              "      <td>Will report directly to Head of Weather Resear...</td>\n",
              "      <td>O,O,O,O,O,O,O,In-SK,O,O,O,O,O</td>\n",
              "    </tr>\n",
              "    <tr>\n",
              "      <th>2</th>\n",
              "      <td>2</td>\n",
              "      <td>The analyst will be expected to interpret resu...</td>\n",
              "      <td>O,O,O,O,O,O,O,O,O,O,O,O,O,O,O,O,O,O,O,O,O,O,In...</td>\n",
              "    </tr>\n",
              "    <tr>\n",
              "      <th>3</th>\n",
              "      <td>3</td>\n",
              "      <td>A wide degree of creativity and latitude is ex...</td>\n",
              "      <td>O,O,O,O,In-SK,O,O,O,O</td>\n",
              "    </tr>\n",
              "    <tr>\n",
              "      <th>4</th>\n",
              "      <td>4</td>\n",
              "      <td>You must be authorized to work in the United S...</td>\n",
              "      <td>O,O,O,O,O,O,O,O,O,O,O,O,O,O,O,O,O,O,O,In-SK,O,...</td>\n",
              "    </tr>\n",
              "    <tr>\n",
              "      <th>...</th>\n",
              "      <td>...</td>\n",
              "      <td>...</td>\n",
              "      <td>...</td>\n",
              "    </tr>\n",
              "    <tr>\n",
              "      <th>124399</th>\n",
              "      <td>124399</td>\n",
              "      <td>Simpson Strong Tie s drug policy is based upon...</td>\n",
              "      <td>O,O,O,O,O,O,O,O,O,O,O,O,O,O,O,O,O,O,O,O,O,O,O,...</td>\n",
              "    </tr>\n",
              "    <tr>\n",
              "      <th>124400</th>\n",
              "      <td>124400</td>\n",
              "      <td>We believe all employees affect customers  sal...</td>\n",
              "      <td>O,O,O,O,O,O,In-SK,O,O,O,O,O,O,O,O,O,O,O,O,O,O,...</td>\n",
              "    </tr>\n",
              "    <tr>\n",
              "      <th>124401</th>\n",
              "      <td>124401</td>\n",
              "      <td>In keeping with the Company s commitment to th...</td>\n",
              "      <td>O,O,O,O,O,O,O,O,O,O,O,O,In-SK,O,O,O,O,O,O,O,O</td>\n",
              "    </tr>\n",
              "    <tr>\n",
              "      <th>124402</th>\n",
              "      <td>124402</td>\n",
              "      <td>Complete training as required to ensure you ar...</td>\n",
              "      <td>O,In-SK,O,O,O,O,O,O,O,O,O,O,O,O,O,O,O</td>\n",
              "    </tr>\n",
              "    <tr>\n",
              "      <th>124403</th>\n",
              "      <td>124403</td>\n",
              "      <td>Perhaps some of the following would be helpful...</td>\n",
              "      <td>O,O,O,O,O,O,O,O,O,O,O,O,O,O,O,O,O,O,O,O,O,O,O,...</td>\n",
              "    </tr>\n",
              "  </tbody>\n",
              "</table>\n",
              "<p>124404 rows × 3 columns</p>\n",
              "</div>\n",
              "    <div class=\"colab-df-buttons\">\n",
              "\n",
              "  <div class=\"colab-df-container\">\n",
              "    <button class=\"colab-df-convert\" onclick=\"convertToInteractive('df-a30ecb96-16a0-4d13-bfe6-a6b558e4ce06')\"\n",
              "            title=\"Convert this dataframe to an interactive table.\"\n",
              "            style=\"display:none;\">\n",
              "\n",
              "  <svg xmlns=\"http://www.w3.org/2000/svg\" height=\"24px\" viewBox=\"0 -960 960 960\">\n",
              "    <path d=\"M120-120v-720h720v720H120Zm60-500h600v-160H180v160Zm220 220h160v-160H400v160Zm0 220h160v-160H400v160ZM180-400h160v-160H180v160Zm440 0h160v-160H620v160ZM180-180h160v-160H180v160Zm440 0h160v-160H620v160Z\"/>\n",
              "  </svg>\n",
              "    </button>\n",
              "\n",
              "  <style>\n",
              "    .colab-df-container {\n",
              "      display:flex;\n",
              "      gap: 12px;\n",
              "    }\n",
              "\n",
              "    .colab-df-convert {\n",
              "      background-color: #E8F0FE;\n",
              "      border: none;\n",
              "      border-radius: 50%;\n",
              "      cursor: pointer;\n",
              "      display: none;\n",
              "      fill: #1967D2;\n",
              "      height: 32px;\n",
              "      padding: 0 0 0 0;\n",
              "      width: 32px;\n",
              "    }\n",
              "\n",
              "    .colab-df-convert:hover {\n",
              "      background-color: #E2EBFA;\n",
              "      box-shadow: 0px 1px 2px rgba(60, 64, 67, 0.3), 0px 1px 3px 1px rgba(60, 64, 67, 0.15);\n",
              "      fill: #174EA6;\n",
              "    }\n",
              "\n",
              "    .colab-df-buttons div {\n",
              "      margin-bottom: 4px;\n",
              "    }\n",
              "\n",
              "    [theme=dark] .colab-df-convert {\n",
              "      background-color: #3B4455;\n",
              "      fill: #D2E3FC;\n",
              "    }\n",
              "\n",
              "    [theme=dark] .colab-df-convert:hover {\n",
              "      background-color: #434B5C;\n",
              "      box-shadow: 0px 1px 3px 1px rgba(0, 0, 0, 0.15);\n",
              "      filter: drop-shadow(0px 1px 2px rgba(0, 0, 0, 0.3));\n",
              "      fill: #FFFFFF;\n",
              "    }\n",
              "  </style>\n",
              "\n",
              "    <script>\n",
              "      const buttonEl =\n",
              "        document.querySelector('#df-a30ecb96-16a0-4d13-bfe6-a6b558e4ce06 button.colab-df-convert');\n",
              "      buttonEl.style.display =\n",
              "        google.colab.kernel.accessAllowed ? 'block' : 'none';\n",
              "\n",
              "      async function convertToInteractive(key) {\n",
              "        const element = document.querySelector('#df-a30ecb96-16a0-4d13-bfe6-a6b558e4ce06');\n",
              "        const dataTable =\n",
              "          await google.colab.kernel.invokeFunction('convertToInteractive',\n",
              "                                                    [key], {});\n",
              "        if (!dataTable) return;\n",
              "\n",
              "        const docLinkHtml = 'Like what you see? Visit the ' +\n",
              "          '<a target=\"_blank\" href=https://colab.research.google.com/notebooks/data_table.ipynb>data table notebook</a>'\n",
              "          + ' to learn more about interactive tables.';\n",
              "        element.innerHTML = '';\n",
              "        dataTable['output_type'] = 'display_data';\n",
              "        await google.colab.output.renderOutput(dataTable, element);\n",
              "        const docLink = document.createElement('div');\n",
              "        docLink.innerHTML = docLinkHtml;\n",
              "        element.appendChild(docLink);\n",
              "      }\n",
              "    </script>\n",
              "  </div>\n",
              "\n",
              "\n",
              "<div id=\"df-ee5da80d-f11d-4eab-a235-e4ed92f3524b\">\n",
              "  <button class=\"colab-df-quickchart\" onclick=\"quickchart('df-ee5da80d-f11d-4eab-a235-e4ed92f3524b')\"\n",
              "            title=\"Suggest charts.\"\n",
              "            style=\"display:none;\">\n",
              "\n",
              "<svg xmlns=\"http://www.w3.org/2000/svg\" height=\"24px\"viewBox=\"0 0 24 24\"\n",
              "     width=\"24px\">\n",
              "    <g>\n",
              "        <path d=\"M19 3H5c-1.1 0-2 .9-2 2v14c0 1.1.9 2 2 2h14c1.1 0 2-.9 2-2V5c0-1.1-.9-2-2-2zM9 17H7v-7h2v7zm4 0h-2V7h2v10zm4 0h-2v-4h2v4z\"/>\n",
              "    </g>\n",
              "</svg>\n",
              "  </button>\n",
              "\n",
              "<style>\n",
              "  .colab-df-quickchart {\n",
              "      --bg-color: #E8F0FE;\n",
              "      --fill-color: #1967D2;\n",
              "      --hover-bg-color: #E2EBFA;\n",
              "      --hover-fill-color: #174EA6;\n",
              "      --disabled-fill-color: #AAA;\n",
              "      --disabled-bg-color: #DDD;\n",
              "  }\n",
              "\n",
              "  [theme=dark] .colab-df-quickchart {\n",
              "      --bg-color: #3B4455;\n",
              "      --fill-color: #D2E3FC;\n",
              "      --hover-bg-color: #434B5C;\n",
              "      --hover-fill-color: #FFFFFF;\n",
              "      --disabled-bg-color: #3B4455;\n",
              "      --disabled-fill-color: #666;\n",
              "  }\n",
              "\n",
              "  .colab-df-quickchart {\n",
              "    background-color: var(--bg-color);\n",
              "    border: none;\n",
              "    border-radius: 50%;\n",
              "    cursor: pointer;\n",
              "    display: none;\n",
              "    fill: var(--fill-color);\n",
              "    height: 32px;\n",
              "    padding: 0;\n",
              "    width: 32px;\n",
              "  }\n",
              "\n",
              "  .colab-df-quickchart:hover {\n",
              "    background-color: var(--hover-bg-color);\n",
              "    box-shadow: 0 1px 2px rgba(60, 64, 67, 0.3), 0 1px 3px 1px rgba(60, 64, 67, 0.15);\n",
              "    fill: var(--button-hover-fill-color);\n",
              "  }\n",
              "\n",
              "  .colab-df-quickchart-complete:disabled,\n",
              "  .colab-df-quickchart-complete:disabled:hover {\n",
              "    background-color: var(--disabled-bg-color);\n",
              "    fill: var(--disabled-fill-color);\n",
              "    box-shadow: none;\n",
              "  }\n",
              "\n",
              "  .colab-df-spinner {\n",
              "    border: 2px solid var(--fill-color);\n",
              "    border-color: transparent;\n",
              "    border-bottom-color: var(--fill-color);\n",
              "    animation:\n",
              "      spin 1s steps(1) infinite;\n",
              "  }\n",
              "\n",
              "  @keyframes spin {\n",
              "    0% {\n",
              "      border-color: transparent;\n",
              "      border-bottom-color: var(--fill-color);\n",
              "      border-left-color: var(--fill-color);\n",
              "    }\n",
              "    20% {\n",
              "      border-color: transparent;\n",
              "      border-left-color: var(--fill-color);\n",
              "      border-top-color: var(--fill-color);\n",
              "    }\n",
              "    30% {\n",
              "      border-color: transparent;\n",
              "      border-left-color: var(--fill-color);\n",
              "      border-top-color: var(--fill-color);\n",
              "      border-right-color: var(--fill-color);\n",
              "    }\n",
              "    40% {\n",
              "      border-color: transparent;\n",
              "      border-right-color: var(--fill-color);\n",
              "      border-top-color: var(--fill-color);\n",
              "    }\n",
              "    60% {\n",
              "      border-color: transparent;\n",
              "      border-right-color: var(--fill-color);\n",
              "    }\n",
              "    80% {\n",
              "      border-color: transparent;\n",
              "      border-right-color: var(--fill-color);\n",
              "      border-bottom-color: var(--fill-color);\n",
              "    }\n",
              "    90% {\n",
              "      border-color: transparent;\n",
              "      border-bottom-color: var(--fill-color);\n",
              "    }\n",
              "  }\n",
              "</style>\n",
              "\n",
              "  <script>\n",
              "    async function quickchart(key) {\n",
              "      const quickchartButtonEl =\n",
              "        document.querySelector('#' + key + ' button');\n",
              "      quickchartButtonEl.disabled = true;  // To prevent multiple clicks.\n",
              "      quickchartButtonEl.classList.add('colab-df-spinner');\n",
              "      try {\n",
              "        const charts = await google.colab.kernel.invokeFunction(\n",
              "            'suggestCharts', [key], {});\n",
              "      } catch (error) {\n",
              "        console.error('Error during call to suggestCharts:', error);\n",
              "      }\n",
              "      quickchartButtonEl.classList.remove('colab-df-spinner');\n",
              "      quickchartButtonEl.classList.add('colab-df-quickchart-complete');\n",
              "    }\n",
              "    (() => {\n",
              "      let quickchartButtonEl =\n",
              "        document.querySelector('#df-ee5da80d-f11d-4eab-a235-e4ed92f3524b button');\n",
              "      quickchartButtonEl.style.display =\n",
              "        google.colab.kernel.accessAllowed ? 'block' : 'none';\n",
              "    })();\n",
              "  </script>\n",
              "</div>\n",
              "    </div>\n",
              "  </div>\n"
            ]
          },
          "metadata": {},
          "execution_count": 2
        }
      ]
    },
    {
      "cell_type": "markdown",
      "source": [
        "# Since it takes a long time to train I use portion of data to train this"
      ],
      "metadata": {
        "id": "n_Hp_Yte9TjO"
      }
    },
    {
      "cell_type": "markdown",
      "source": [
        "# on T4 GPU training takes about 4h"
      ],
      "metadata": {
        "id": "N9_h8kea9c1z"
      }
    },
    {
      "cell_type": "code",
      "source": [
        "from tqdm import tqdm\n",
        "\n",
        "with open(\"train.txt\", 'w') as f:\n",
        "\n",
        "  for j in tqdm(range(0,40000)):\n",
        "    try:\n",
        "      s = data['sentence'][j].split()\n",
        "      l = data['word_labels'][j].split(',')\n",
        "      for i in range(len(s)):\n",
        "        text = \"\\n\" + s[i] + ' '+ l[i]\n",
        "        f.write(text)\n",
        "      f.write('\\n')\n",
        "    except:\n",
        "      pass\n",
        "\n",
        "\n",
        "with open(\"test.txt\", 'w') as f:\n",
        "\n",
        "  for j in tqdm(range(40000,48000)):\n",
        "    try:\n",
        "      s = data['sentence'][j].split()\n",
        "      l = data['word_labels'][j].split(',')\n",
        "      for i in range(len(s)):\n",
        "        text = \"\\n\" + s[i] + ' '+ l[i]\n",
        "        f.write(text)\n",
        "      f.write('\\n')\n",
        "    except:\n",
        "      pass\n",
        "\n",
        "\n",
        "with open(\"dev.txt\", 'w') as f:\n",
        "\n",
        "  for j in tqdm(range(50000,55000)):\n",
        "    try:\n",
        "      s = data['sentence'][j].split()\n",
        "      l = data['word_labels'][j].split(',')\n",
        "      for i in range(len(s)):\n",
        "        text = \"\\n\" + s[i] + ' '+ l[i]\n",
        "        f.write(text)\n",
        "      f.write('\\n')\n",
        "    except:\n",
        "      pass\n",
        "\n"
      ],
      "metadata": {
        "colab": {
          "base_uri": "https://localhost:8080/"
        },
        "id": "hqn6Be2VDYP2",
        "outputId": "64f07ee9-74ea-45d5-daec-79c273a55f92"
      },
      "execution_count": 3,
      "outputs": [
        {
          "output_type": "stream",
          "name": "stderr",
          "text": [
            "100%|██████████| 40000/40000 [00:04<00:00, 8581.36it/s] \n",
            "100%|██████████| 8000/8000 [00:00<00:00, 11173.86it/s]\n",
            "100%|██████████| 5000/5000 [00:00<00:00, 7148.28it/s]\n"
          ]
        }
      ]
    },
    {
      "cell_type": "code",
      "source": [
        "from flair.data import Sentence, Corpus\n",
        "from flair.datasets import ColumnCorpus\n",
        "from flair.models import SequenceTagger\n",
        "\n",
        "\n",
        "# define columns\n",
        "columns = {0 : 'text', 1 : 'ner'}\n",
        "# directory where the data resides\n",
        "data_folder = '.'\n",
        "# initializing the corpus\n",
        "corpus: Corpus = ColumnCorpus(data_folder, columns,\n",
        "                              train_file = 'train.txt',\n",
        "                              test_file = 'test.txt',\n",
        "                              dev_file = 'dev.txt')"
      ],
      "metadata": {
        "colab": {
          "base_uri": "https://localhost:8080/"
        },
        "id": "1DJ9UjMSEVle",
        "outputId": "3db80318-ee19-4674-f205-8b1bbb9effdd"
      },
      "execution_count": 4,
      "outputs": [
        {
          "output_type": "stream",
          "name": "stdout",
          "text": [
            "2023-10-19 20:04:11,879 Reading data from .\n",
            "2023-10-19 20:04:11,880 Train: train.txt\n",
            "2023-10-19 20:04:11,883 Dev: dev.txt\n",
            "2023-10-19 20:04:11,886 Test: test.txt\n"
          ]
        }
      ]
    },
    {
      "cell_type": "code",
      "source": [
        "# tag to predict\n",
        "tag_type = 'ner'\n",
        "# make tag dictionary from the corpus\n",
        "tag_dictionary = corpus.make_tag_dictionary(tag_type=tag_type)"
      ],
      "metadata": {
        "colab": {
          "base_uri": "https://localhost:8080/"
        },
        "id": "A6wr6fT2IaLK",
        "outputId": "ef962ad3-a75f-4ac1-df5a-369767193091"
      },
      "execution_count": 5,
      "outputs": [
        {
          "output_type": "stream",
          "name": "stderr",
          "text": [
            "<ipython-input-5-827ff065dbcf>:4: DeprecationWarning: Call to deprecated method make_tag_dictionary. (Use 'make_label_dictionary' instead.) -- Deprecated since version 0.8.\n",
            "  tag_dictionary = corpus.make_tag_dictionary(tag_type=tag_type)\n"
          ]
        }
      ]
    },
    {
      "cell_type": "code",
      "source": [
        "from flair.embeddings import WordEmbeddings, StackedEmbeddings, FlairEmbeddings\n",
        "from typing import List\n",
        "from flair.embeddings import TransformerWordEmbeddings\n",
        "\n",
        "\n",
        "# init embedding\n",
        "embedding = TransformerWordEmbeddings('distilbert-base-uncased')\n",
        "# embeddings : StackedEmbeddings = StackedEmbeddings(\n",
        "#                                  embeddings=embedding)"
      ],
      "metadata": {
        "id": "6vmLtIe2Iik9"
      },
      "execution_count": 6,
      "outputs": []
    },
    {
      "cell_type": "code",
      "source": [
        "from flair.models import SequenceTagger\n",
        "tagger : SequenceTagger = SequenceTagger(hidden_size=128,\n",
        "                                       embeddings=embedding,\n",
        "                                       tag_dictionary=tag_dictionary,\n",
        "                                       tag_type=tag_type,\n",
        "                                       use_crf=True)\n",
        "print(tagger)"
      ],
      "metadata": {
        "id": "HGZqm5YbIkrN",
        "colab": {
          "base_uri": "https://localhost:8080/"
        },
        "outputId": "926b71da-9c7c-4eb4-e359-7036bd07c3f9"
      },
      "execution_count": 7,
      "outputs": [
        {
          "output_type": "stream",
          "name": "stdout",
          "text": [
            "2023-10-19 20:05:31,841 SequenceTagger predicts: Dictionary with 4 tags: O, In-SK, <START>, <STOP>\n",
            "SequenceTagger(\n",
            "  (embeddings): TransformerWordEmbeddings(\n",
            "    (model): DistilBertModel(\n",
            "      (embeddings): Embeddings(\n",
            "        (word_embeddings): Embedding(30523, 768)\n",
            "        (position_embeddings): Embedding(512, 768)\n",
            "        (LayerNorm): LayerNorm((768,), eps=1e-12, elementwise_affine=True)\n",
            "        (dropout): Dropout(p=0.1, inplace=False)\n",
            "      )\n",
            "      (transformer): Transformer(\n",
            "        (layer): ModuleList(\n",
            "          (0-5): 6 x TransformerBlock(\n",
            "            (attention): MultiHeadSelfAttention(\n",
            "              (dropout): Dropout(p=0.1, inplace=False)\n",
            "              (q_lin): Linear(in_features=768, out_features=768, bias=True)\n",
            "              (k_lin): Linear(in_features=768, out_features=768, bias=True)\n",
            "              (v_lin): Linear(in_features=768, out_features=768, bias=True)\n",
            "              (out_lin): Linear(in_features=768, out_features=768, bias=True)\n",
            "            )\n",
            "            (sa_layer_norm): LayerNorm((768,), eps=1e-12, elementwise_affine=True)\n",
            "            (ffn): FFN(\n",
            "              (dropout): Dropout(p=0.1, inplace=False)\n",
            "              (lin1): Linear(in_features=768, out_features=3072, bias=True)\n",
            "              (lin2): Linear(in_features=3072, out_features=768, bias=True)\n",
            "              (activation): GELUActivation()\n",
            "            )\n",
            "            (output_layer_norm): LayerNorm((768,), eps=1e-12, elementwise_affine=True)\n",
            "          )\n",
            "        )\n",
            "      )\n",
            "    )\n",
            "  )\n",
            "  (word_dropout): WordDropout(p=0.05)\n",
            "  (locked_dropout): LockedDropout(p=0.5)\n",
            "  (embedding2nn): Linear(in_features=768, out_features=768, bias=True)\n",
            "  (rnn): LSTM(768, 128, batch_first=True, bidirectional=True)\n",
            "  (linear): Linear(in_features=256, out_features=4, bias=True)\n",
            "  (loss_function): ViterbiLoss()\n",
            "  (crf): CRF()\n",
            ")\n"
          ]
        }
      ]
    },
    {
      "cell_type": "code",
      "source": [
        "from flair.trainers import ModelTrainer\n",
        "trainer : ModelTrainer = ModelTrainer(tagger, corpus)\n",
        "trainer.train('flair-ner',\n",
        "              learning_rate=0.04,\n",
        "              mini_batch_size=16,\n",
        "              max_epochs=150, save_model_each_k_epochs=1)"
      ],
      "metadata": {
        "colab": {
          "base_uri": "https://localhost:8080/"
        },
        "id": "hfpWjHS0In28",
        "outputId": "e04e750c-3efa-49fb-d278-f469ed8c71f2"
      },
      "execution_count": 8,
      "outputs": [
        {
          "output_type": "stream",
          "name": "stdout",
          "text": [
            "2023-10-19 20:05:46,971 ----------------------------------------------------------------------------------------------------\n",
            "2023-10-19 20:05:46,973 Model: \"SequenceTagger(\n",
            "  (embeddings): TransformerWordEmbeddings(\n",
            "    (model): DistilBertModel(\n",
            "      (embeddings): Embeddings(\n",
            "        (word_embeddings): Embedding(30523, 768)\n",
            "        (position_embeddings): Embedding(512, 768)\n",
            "        (LayerNorm): LayerNorm((768,), eps=1e-12, elementwise_affine=True)\n",
            "        (dropout): Dropout(p=0.1, inplace=False)\n",
            "      )\n",
            "      (transformer): Transformer(\n",
            "        (layer): ModuleList(\n",
            "          (0-5): 6 x TransformerBlock(\n",
            "            (attention): MultiHeadSelfAttention(\n",
            "              (dropout): Dropout(p=0.1, inplace=False)\n",
            "              (q_lin): Linear(in_features=768, out_features=768, bias=True)\n",
            "              (k_lin): Linear(in_features=768, out_features=768, bias=True)\n",
            "              (v_lin): Linear(in_features=768, out_features=768, bias=True)\n",
            "              (out_lin): Linear(in_features=768, out_features=768, bias=True)\n",
            "            )\n",
            "            (sa_layer_norm): LayerNorm((768,), eps=1e-12, elementwise_affine=True)\n",
            "            (ffn): FFN(\n",
            "              (dropout): Dropout(p=0.1, inplace=False)\n",
            "              (lin1): Linear(in_features=768, out_features=3072, bias=True)\n",
            "              (lin2): Linear(in_features=3072, out_features=768, bias=True)\n",
            "              (activation): GELUActivation()\n",
            "            )\n",
            "            (output_layer_norm): LayerNorm((768,), eps=1e-12, elementwise_affine=True)\n",
            "          )\n",
            "        )\n",
            "      )\n",
            "    )\n",
            "  )\n",
            "  (word_dropout): WordDropout(p=0.05)\n",
            "  (locked_dropout): LockedDropout(p=0.5)\n",
            "  (embedding2nn): Linear(in_features=768, out_features=768, bias=True)\n",
            "  (rnn): LSTM(768, 128, batch_first=True, bidirectional=True)\n",
            "  (linear): Linear(in_features=256, out_features=4, bias=True)\n",
            "  (loss_function): ViterbiLoss()\n",
            "  (crf): CRF()\n",
            ")\"\n",
            "2023-10-19 20:05:46,976 ----------------------------------------------------------------------------------------------------\n",
            "2023-10-19 20:05:46,979 Corpus: \"Corpus: 39987 train + 5000 dev + 7999 test sentences\"\n",
            "2023-10-19 20:05:46,981 ----------------------------------------------------------------------------------------------------\n",
            "2023-10-19 20:05:46,983 Parameters:\n",
            "2023-10-19 20:05:46,985  - learning_rate: \"0.040000\"\n",
            "2023-10-19 20:05:47,000  - mini_batch_size: \"16\"\n",
            "2023-10-19 20:05:47,003  - patience: \"3\"\n",
            "2023-10-19 20:05:47,006  - anneal_factor: \"0.5\"\n",
            "2023-10-19 20:05:47,009  - max_epochs: \"150\"\n",
            "2023-10-19 20:05:47,023  - shuffle: \"True\"\n",
            "2023-10-19 20:05:47,025  - train_with_dev: \"False\"\n",
            "2023-10-19 20:05:47,028  - batch_growth_annealing: \"False\"\n",
            "2023-10-19 20:05:47,032 ----------------------------------------------------------------------------------------------------\n",
            "2023-10-19 20:05:47,037 Model training base path: \"flair-ner\"\n",
            "2023-10-19 20:05:47,040 ----------------------------------------------------------------------------------------------------\n",
            "2023-10-19 20:05:47,044 Device: cuda:0\n",
            "2023-10-19 20:05:47,047 ----------------------------------------------------------------------------------------------------\n",
            "2023-10-19 20:05:47,053 Embeddings storage mode: cpu\n",
            "2023-10-19 20:05:47,056 ----------------------------------------------------------------------------------------------------\n",
            "2023-10-19 20:08:43,640 epoch 1 - iter 250/2500 - loss 0.14497615 - time (sec): 176.58 - samples/sec: 1607.34 - lr: 0.040000\n",
            "2023-10-19 20:11:30,641 epoch 1 - iter 500/2500 - loss 0.10648593 - time (sec): 343.58 - samples/sec: 1581.62 - lr: 0.040000\n",
            "2023-10-19 20:15:16,380 epoch 1 - iter 750/2500 - loss 0.08414277 - time (sec): 569.32 - samples/sec: 1568.67 - lr: 0.040000\n",
            "2023-10-19 20:18:32,508 epoch 1 - iter 1000/2500 - loss 0.07150518 - time (sec): 765.45 - samples/sec: 1571.43 - lr: 0.040000\n",
            "2023-10-19 20:22:10,869 epoch 1 - iter 1250/2500 - loss 0.06340304 - time (sec): 983.81 - samples/sec: 1565.95 - lr: 0.040000\n",
            "2023-10-19 20:25:30,898 epoch 1 - iter 1500/2500 - loss 0.05857926 - time (sec): 1183.84 - samples/sec: 1570.06 - lr: 0.040000\n",
            "2023-10-19 20:28:48,126 epoch 1 - iter 1750/2500 - loss 0.05300142 - time (sec): 1381.07 - samples/sec: 1575.92 - lr: 0.040000\n",
            "2023-10-19 20:32:17,925 epoch 1 - iter 2000/2500 - loss 0.04944133 - time (sec): 1590.86 - samples/sec: 1550.02 - lr: 0.040000\n",
            "2023-10-19 20:35:31,110 epoch 1 - iter 2250/2500 - loss 0.04650375 - time (sec): 1784.05 - samples/sec: 1549.87 - lr: 0.040000\n",
            "2023-10-19 20:37:58,493 epoch 1 - iter 2500/2500 - loss 0.04430018 - time (sec): 1931.43 - samples/sec: 1557.63 - lr: 0.040000\n",
            "2023-10-19 20:37:58,502 saving model of current epoch\n",
            "2023-10-19 20:38:00,723 ----------------------------------------------------------------------------------------------------\n",
            "2023-10-19 20:38:00,726 EPOCH 1 done: loss 0.0443 - lr 0.040000\n"
          ]
        },
        {
          "output_type": "stream",
          "name": "stderr",
          "text": [
            "100%|██████████| 313/313 [02:49<00:00,  1.85it/s]"
          ]
        },
        {
          "output_type": "stream",
          "name": "stdout",
          "text": [
            "2023-10-19 20:40:50,216 Evaluating as a multi-label problem: False\n"
          ]
        },
        {
          "output_type": "stream",
          "name": "stderr",
          "text": [
            "\n"
          ]
        },
        {
          "output_type": "stream",
          "name": "stdout",
          "text": [
            "2023-10-19 20:40:50,447 DEV : loss 0.024040572345256805 - f1-score (micro avg)  0.9629\n",
            "2023-10-19 20:40:51,725 BAD EPOCHS (no improvement): 0\n",
            "2023-10-19 20:40:51,731 saving best model\n",
            "2023-10-19 20:40:56,019 ----------------------------------------------------------------------------------------------------\n",
            "2023-10-19 20:44:35,350 epoch 2 - iter 250/2500 - loss 0.01772449 - time (sec): 219.32 - samples/sec: 1343.13 - lr: 0.040000\n",
            "2023-10-19 20:48:23,308 epoch 2 - iter 500/2500 - loss 0.01760430 - time (sec): 447.28 - samples/sec: 1344.37 - lr: 0.040000\n",
            "2023-10-19 20:52:13,378 epoch 2 - iter 750/2500 - loss 0.01644673 - time (sec): 677.35 - samples/sec: 1335.81 - lr: 0.040000\n",
            "2023-10-19 20:55:58,814 epoch 2 - iter 1000/2500 - loss 0.01615531 - time (sec): 902.79 - samples/sec: 1339.86 - lr: 0.040000\n",
            "2023-10-19 20:59:42,249 epoch 2 - iter 1250/2500 - loss 0.01588678 - time (sec): 1126.22 - samples/sec: 1340.52 - lr: 0.040000\n",
            "2023-10-19 21:03:28,499 epoch 2 - iter 1500/2500 - loss 0.01521819 - time (sec): 1352.47 - samples/sec: 1342.33 - lr: 0.040000\n",
            "2023-10-19 21:07:17,630 epoch 2 - iter 1750/2500 - loss 0.01498131 - time (sec): 1581.60 - samples/sec: 1336.39 - lr: 0.040000\n",
            "2023-10-19 21:11:00,134 epoch 2 - iter 2000/2500 - loss 0.01479592 - time (sec): 1804.11 - samples/sec: 1336.29 - lr: 0.040000\n",
            "2023-10-19 21:14:32,027 epoch 2 - iter 2250/2500 - loss 0.01447112 - time (sec): 2016.00 - samples/sec: 1342.98 - lr: 0.040000\n",
            "2023-10-19 21:18:16,031 epoch 2 - iter 2500/2500 - loss 0.01416487 - time (sec): 2240.01 - samples/sec: 1343.06 - lr: 0.040000\n",
            "2023-10-19 21:18:16,033 saving model of current epoch\n",
            "2023-10-19 21:18:16,750 ----------------------------------------------------------------------------------------------------\n",
            "2023-10-19 21:18:16,754 EPOCH 2 done: loss 0.0142 - lr 0.040000\n"
          ]
        },
        {
          "output_type": "stream",
          "name": "stderr",
          "text": [
            "100%|██████████| 313/313 [02:46<00:00,  1.88it/s]"
          ]
        },
        {
          "output_type": "stream",
          "name": "stdout",
          "text": [
            "2023-10-19 21:21:02,971 Evaluating as a multi-label problem: False\n"
          ]
        },
        {
          "output_type": "stream",
          "name": "stderr",
          "text": [
            "\n"
          ]
        },
        {
          "output_type": "stream",
          "name": "stdout",
          "text": [
            "2023-10-19 21:21:03,254 DEV : loss 0.009646009653806686 - f1-score (micro avg)  0.9834\n",
            "2023-10-19 21:21:05,484 BAD EPOCHS (no improvement): 0\n",
            "2023-10-19 21:21:05,497 saving best model\n",
            "2023-10-19 21:21:08,378 ----------------------------------------------------------------------------------------------------\n",
            "2023-10-19 21:21:28,754 ----------------------------------------------------------------------------------------------------\n",
            "2023-10-19 21:21:28,757 Exiting from training early.\n",
            "2023-10-19 21:21:28,759 Saving model ...\n",
            "2023-10-19 21:21:29,493 Done.\n",
            "2023-10-19 21:21:29,499 ----------------------------------------------------------------------------------------------------\n",
            "2023-10-19 21:21:32,265 SequenceTagger predicts: Dictionary with 4 tags: O, In-SK, <START>, <STOP>\n"
          ]
        },
        {
          "output_type": "stream",
          "name": "stderr",
          "text": [
            "100%|██████████| 500/500 [03:18<00:00,  2.52it/s]"
          ]
        },
        {
          "output_type": "stream",
          "name": "stdout",
          "text": [
            "2023-10-19 21:24:50,698 Evaluating as a multi-label problem: False\n"
          ]
        },
        {
          "output_type": "stream",
          "name": "stderr",
          "text": [
            "\n"
          ]
        },
        {
          "output_type": "stream",
          "name": "stdout",
          "text": [
            "2023-10-19 21:24:50,992 0.9827\t0.9847\t0.9837\t0.9679\n",
            "2023-10-19 21:24:50,993 \n",
            "Results:\n",
            "- F-score (micro) 0.9837\n",
            "- F-score (macro) 0.9837\n",
            "- Accuracy 0.9679\n",
            "\n",
            "By class:\n",
            "              precision    recall  f1-score   support\n",
            "\n",
            "       In-SK     0.9827    0.9847    0.9837     40230\n",
            "\n",
            "   micro avg     0.9827    0.9847    0.9837     40230\n",
            "   macro avg     0.9827    0.9847    0.9837     40230\n",
            "weighted avg     0.9827    0.9847    0.9837     40230\n",
            "\n",
            "2023-10-19 21:24:50,996 ----------------------------------------------------------------------------------------------------\n"
          ]
        },
        {
          "output_type": "execute_result",
          "data": {
            "text/plain": [
              "{'test_score': 0.9836985536035755,\n",
              " 'dev_score_history': [0.9628695309420576, 0.9834273555993674],\n",
              " 'train_loss_history': [0.04430018047908408, 0.01416487145773703],\n",
              " 'dev_loss_history': [0.024040572345256805, 0.009646009653806686]}"
            ]
          },
          "metadata": {},
          "execution_count": 8
        }
      ]
    }
  ]
}